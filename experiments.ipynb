{
 "metadata": {
  "language_info": {
   "codemirror_mode": {
    "name": "ipython",
    "version": 3
   },
   "file_extension": ".py",
   "mimetype": "text/x-python",
   "name": "python",
   "nbconvert_exporter": "python",
   "pygments_lexer": "ipython3",
   "version": "3.7.3-final"
  },
  "orig_nbformat": 2,
  "kernelspec": {
   "name": "python3",
   "display_name": "Python 3.7.3 64-bit",
   "metadata": {
    "interpreter": {
     "hash": "aee8b7b246df8f9039afb4144a1f6fd8d2ca17a180786b69acc140d282b71a49"
    }
   }
  }
 },
 "nbformat": 4,
 "nbformat_minor": 2,
 "cells": [
  {
   "cell_type": "code",
   "execution_count": 2,
   "metadata": {},
   "outputs": [],
   "source": [
    "from image import *"
   ]
  },
  {
   "cell_type": "code",
   "execution_count": 3,
   "metadata": {},
   "outputs": [],
   "source": [
    "# RGB image\n",
    "preprocess = {\"nothing\": lambda x: x, \"contrast\": increase_contrast, \"normalize\": normalize, \"blackhat\": blackhat}\n",
    "hairs = {\"nothing\": lambda x: x, \"median\": median, \"low_pass_filter\": low_pass_filter_rgb, \"dilate\": dilate}\n",
    "segments = {\"threshold\": threshold, \"watershed\": watershed, \"mser\": mser, \"k_means\": k_means}\n",
    "\n",
    "img_folder = \"images/original\"\n",
    "seg_folder = \"images/segmented\"\n",
    "\n",
    "results = {}\n",
    "\n",
    "for pre in preprocess:\n",
    "    for hair in hairs:\n",
    "        for seg in segments:\n",
    "\n",
    "            name = \"{} - {} - {}\".format(pre, hair, seg)\n",
    "            results[name] = {}\n",
    "            avg_TPR = 0\n",
    "            avg_FPR = 0\n",
    "            avg_TP = 0\n",
    "            avg_TN = 0\n",
    "            avg_FP = 0\n",
    "            avg_FN = 0\n",
    "            cont = 0\n",
    "\n",
    "            for img_name in sorted(os.listdir(img_folder)):\n",
    "                cont += 1\n",
    "                aux_index = img_name.index(\"i\")\n",
    "                n = img_name[0:aux_index]\n",
    "                # Real image\n",
    "                img_path = img_folder + \"/\" + img_name\n",
    "                img = load_image_rgb(img_path)\n",
    "\n",
    "                # Segmented by function\n",
    "                func_seg_img = segments[seg](hairs[hair](preprocess[pre](img)))\n",
    "\n",
    "                # Improve the segmentation by applying morphology operations\n",
    "                opening = cv2.morphologyEx(func_seg_img, cv2.MORPH_OPEN, np.ones((3,3),np.uint8))\n",
    "                final = cv2.morphologyEx(opening, cv2.MORPH_DILATE, np.ones((5,5),np.uint8),iterations=3)\n",
    "                final = cv2.medianBlur(final,9)\n",
    "                final = cv2.morphologyEx(final, cv2.MORPH_DILATE, np.ones((7,7),np.uint8),iterations=3)\n",
    "                final = cv2.medianBlur(final,11)\n",
    "                func_seg_img = cv2.morphologyEx(final, cv2.MORPH_CLOSE, np.ones((7,7),np.uint8))\n",
    "\n",
    "                # Real segmentation\n",
    "                real_seg_path = seg_folder + \"/\" + n + \"seg.png\"\n",
    "                real_seg_img = load_image(real_seg_path)\n",
    "\n",
    "                # Compare\n",
    "                TPR, FPR, TP, TN, FP, FN = compare_seg(real_seg_img, func_seg_img)\n",
    "                this_res = {\n",
    "                    \"TP\": TP,\n",
    "                    \"FP\": FP,\n",
    "                    \"TN\": TN,\n",
    "                    \"FN\": FN,\n",
    "                    \"TPR\": TPR,\n",
    "                    \"FPR\": FPR,\n",
    "                }\n",
    "                results[name][n] = this_res\n",
    "                avg_TPR += TPR\n",
    "                avg_FPR += FPR\n",
    "                avg_TP += TP\n",
    "                avg_TN += TN\n",
    "                avg_FP += FP\n",
    "                avg_FN += FN\n",
    "\n",
    "            results[name][\"average_TPR\"] = avg_TPR/cont\n",
    "            results[name][\"average_FPR\"] = avg_FPR/cont\n",
    "            results[name][\"average_TP\"] = avg_TP/cont\n",
    "            results[name][\"average_TN\"] = avg_TN/cont\n",
    "            results[name][\"average_FP\"] = avg_FP/cont\n",
    "            results[name][\"average_FN\"] = avg_FN/cont\n",
    "            \n",
    "            # print(name)\n",
    "            # print(\"Avg TPR:\", results[name][\"average_TPR\"])\n",
    "            # print(\"Avg FPR:\", results[name][\"average_FPR\"])\n",
    "            # print()       \n",
    "\n"
   ]
  },
  {
   "cell_type": "code",
   "execution_count": 17,
   "metadata": {},
   "outputs": [
    {
     "output_type": "stream",
     "name": "stdout",
     "text": [
      "Low TPR: 2 (0.6862354833263731)\nLow TPR: 8 (0.754207263064659)\nLow TPR: 9 (0.7315679442508711)\nLow TPR: 33 (0.5641339028406752)\nLow TPR: 40 (0.6891365494843268)\nHigh FPR: 13 (0.23914062167189695)\nHigh FPR: 15 (0.22346267872966558)\nHigh FPR: 18 (0.46405990663180624)\nHigh FPR: 24 (0.5795129730724407)\nHigh FPR: 26 (0.4325814990388196)\nHigh FPR: 27 (0.2086287398596656)\nHigh FPR: 28 (0.28061644391380447)\nHigh FPR: 31 (0.34439182864379714)\nHigh FPR: 32 (0.44229172432881264)\nHigh FPR: 33 (0.46835732711991346)\nHigh FPR: 35 (0.32011625690870976)\nHigh FPR: 40 (0.6264988621557196)\n"
     ]
    }
   ],
   "source": [
    "import json\n",
    "# Random metric \n",
    "def metric2(TPR,FPR):\n",
    "    return (1+(1-TPR))**2 + (1+FPR)**2 - 2\n",
    "\n",
    "def metric1(TPR,FPR):\n",
    "    return 1-TPR+FPR\n",
    "\n",
    "# Save results\n",
    "# with open('results/all_results.txt', 'w') as outfile:\n",
    "#    json.dump(results, outfile)\n",
    "\n",
    "name = \"contrast - median - k_means\"\n",
    "avg_TPR = results[name][\"average_TPR\"]\n",
    "avg_FPR = results[name][\"average_FPR\"]\n",
    "simple_dif = metric1(avg_TPR,avg_FPR)\n",
    "squared_dif = metric2(avg_TPR,avg_FPR)\n",
    "for i in range(1,51):\n",
    "    n = str(i)\n",
    "    TPR = results[name][n][\"TPR\"]\n",
    "    if TPR < 0.8:\n",
    "        print(\"Low TPR:\",n, \"({})\".format(TPR))\n",
    "\n",
    "for i in range(1,51):\n",
    "    n = str(i)\n",
    "    FPR = results[name][n][\"FPR\"]\n",
    "    if FPR > 0.2:\n",
    "        print(\"High FPR:\",n, \"({})\".format(FPR))\n",
    "\n"
   ]
  },
  {
   "cell_type": "code",
   "execution_count": null,
   "metadata": {},
   "outputs": [],
   "source": []
  }
 ]
}